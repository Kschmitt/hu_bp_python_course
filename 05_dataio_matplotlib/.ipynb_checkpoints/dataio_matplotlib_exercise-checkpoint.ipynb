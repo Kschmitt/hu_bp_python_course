{
 "cells": [
  {
   "cell_type": "markdown",
   "metadata": {},
   "source": [
    "# Exercise 1: reading FASTA files"
   ]
  },
  {
   "cell_type": "markdown",
   "metadata": {},
   "source": [
    "The [FASTA](http://en.wikipedia.org/wiki/FASTA_format)-format is a text-based format for nucleotide and protein sequences. A FASTA File begins with a single line description which is indicated by a leading \">\".\n",
    "\n",
    "Example:\n",
    "\n",
    "> \\>gi|31563518|ref|NP_852610.1| microtubule-associated proteins 1A/1B light chain 3A isoform b [Homo sapiens] MKMRFFSSPCGKAAVDPADRCKEVQQIRDQHPSKIPVIIERYKGEKQLPVLDKTKFLVPDHVNMSELVKIIRRRLQLNPTQAFFLLVNQHSMVSVSTPIADIYEQEKDEDGFLYMVYASQETFGFIRENE\n",
    "\n",
    "* parse the nucleotide sequence in the file `GPD1_seq.fasta` (omit the description line)\n",
    "* write a function `compute_nt_composition( sequence )`, which returns a dictionary containing the number of ocurrences for each base in a given sequence\n",
    "* compute the nucleotide composition of the GDP1 protein and pickle the result to a file\n"
   ]
  },
  {
   "cell_type": "code",
   "execution_count": 42,
   "metadata": {
    "collapsed": false
   },
   "outputs": [
    {
     "name": "stdout",
     "output_type": "stream",
     "text": [
      "Counter({'T': 336, 'A': 324, 'G': 276, 'C': 240})\n"
     ]
    }
   ],
   "source": [
    "import cPickle as pickle\n",
    "from collections import Counter\n",
    "with open('GPD1_seq.fasta', 'r') as f:\n",
    "    data = f.readlines()\n",
    "f.close\n",
    "\n",
    "\n",
    "data= [line.strip() for line in data if line[0] != '>' ]\n",
    "data = ''.join(data)\n",
    "\n",
    "compute_nt_composition=Counter(data)\n",
    "\n",
    "print compute_nt_composition\n",
    "with open('nucleotidecomposition.p', 'w') as n:\n",
    "    pickle.dump( compute_nt_composition, n )\n",
    "    \n"
   ]
  },
  {
   "cell_type": "markdown",
   "metadata": {},
   "source": [
    "# Exercise 2: Plot a histogram\n",
    "\n",
    "take the nucleotide composition of the gene above and plot a histogram of the A, T, G and C frequency. Have your histogram labeled nicely and give it a title. Please, choose yourself if you would like to display horizontal or vertical bars. Advanced options include change of color for individual bars, width of the bars and alignment of labels and bars."
   ]
  },
  {
   "cell_type": "code",
   "execution_count": 72,
   "metadata": {
    "collapsed": false
   },
   "outputs": [
    {
     "name": "stdout",
     "output_type": "stream",
     "text": [
      "Counter({'T': 336, 'A': 324, 'G': 276, 'C': 240})\n"
     ]
    },
    {
     "data": {
      "text/plain": [
       "([<matplotlib.axis.XTick at 0x7fbf03d63450>,\n",
       "  <matplotlib.axis.XTick at 0x7fbf03d63cd0>,\n",
       "  <matplotlib.axis.XTick at 0x7fbf03d34d10>,\n",
       "  <matplotlib.axis.XTick at 0x7fbf03d4fed0>],\n",
       " <a list of 4 Text xticklabel objects>)"
      ]
     },
     "execution_count": 72,
     "metadata": {},
     "output_type": "execute_result"
    },
    {
     "data": {
      "image/png": "[encoded data removed]",
      "text/plain": [
       "<matplotlib.figure.Figure at 0x7fbf0404cb50>"
      ]
     },
     "metadata": {},
     "output_type": "display_data"
    }
   ],
   "source": [
    "%matplotlib inline \n",
    "from pylab import *\n",
    "\n",
    "print compute_nt_composition\n",
    "\n",
    "yv=[324,240,276,336]\n",
    "\n",
    "mybar = bar(range(4), yv, width=0.9, color=['y','r','b','g'])\n",
    "setp(mybar, edgecolor='k')\n",
    "\n",
    "xticks(xv, ['A','C','G','T'])\n",
    "\n",
    "\n"
   ]
  },
  {
   "cell_type": "markdown",
   "metadata": {},
   "source": [
    "# Exercise 3: Plot a scatterplot\n",
    "\n",
    "The file `mycoplasma_gene_sequences.csv` contains the genomic sequences of all *Mycoplasma genitalium* genes. The file contains two columns separated by a coma, the `WholeCellModelID` and the `Sequence`. \n",
    "\n",
    "* Read and parse the file and compute the nucleotide composition for each gene using the `compute_nt_composition( seq )` function that you have defined in Exercise 1. Collect the nucleotide compositions f Then use the scatter function to plot a scatterplot of A content versus T content for each gene (don't forget to normalize the nucleotide content by gene length).\n",
    "\n",
    "* Indicate the length of each sequence by the dot-size in the scatterplot (hint: s input of scatter function)\n",
    "\n",
    "* Plot the scatterplot for each combination of A,G,T,C (use subplot)"
   ]
  },
  {
   "cell_type": "code",
   "execution_count": 14,
   "metadata": {
    "collapsed": false
   },
   "outputs": [],
   "source": [
    "from collections import Counter\n",
    "Counter?\n"
   ]
  },
  {
   "cell_type": "markdown",
   "metadata": {},
   "source": [
    "# Exercise 4: Plot the phasespace\n",
    "\n",
    "in the numpy tutorial yesterday, you examined how a population of predator and prey can evolve over time theoretically (Lotka-Voltera System). Today, revisit the system and plot the phase space of the two species. In a phase space we plot the two variables against each other. \n",
    "\n",
    "In a next step, imagine, we would like to visualize how different starting conditions impact population behavior. Try having different conditions in the same phase space plot."
   ]
  },
  {
   "cell_type": "code",
   "execution_count": 1,
   "metadata": {
    "collapsed": false
   },
   "outputs": [],
   "source": [
    "import scipy.integrate"
   ]
  }
 ],
 "metadata": {
  "kernelspec": {
   "display_name": "Python 2",
   "language": "python",
   "name": "python2"
  },
  "language_info": {
   "codemirror_mode": {
    "name": "ipython",
    "version": 2
   },
   "file_extension": ".py",
   "mimetype": "text/x-python",
   "name": "python",
   "nbconvert_exporter": "python",
   "pygments_lexer": "ipython2",
   "version": "2.7.6"
  }
 },
 "nbformat": 4,
 "nbformat_minor": 0
}
